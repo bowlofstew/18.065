{
 "cells": [
  {
   "cell_type": "markdown",
   "metadata": {},
   "source": [
    "# Loading packages and utilities"
   ]
  },
  {
   "cell_type": "code",
   "execution_count": null,
   "metadata": {},
   "outputs": [],
   "source": [
    "Pkg.add(\"JLD2\")\n",
    "Pkg.update()"
   ]
  },
  {
   "cell_type": "code",
   "execution_count": null,
   "metadata": {},
   "outputs": [],
   "source": [
    "include(\"getcorrespondences.jl\")"
   ]
  },
  {
   "cell_type": "markdown",
   "metadata": {},
   "source": [
    "# Load your projective_transform.jl file"
   ]
  },
  {
   "cell_type": "code",
   "execution_count": null,
   "metadata": {},
   "outputs": [],
   "source": [
    "# include your autograder-certified code from homework\n",
    "include(\"projective_transform.jl\")"
   ]
  },
  {
   "cell_type": "markdown",
   "metadata": {},
   "source": [
    "Next load the images and convert them into an array for processing. "
   ]
  },
  {
   "cell_type": "code",
   "execution_count": null,
   "metadata": {
    "scrolled": false
   },
   "outputs": [],
   "source": [
    "names = [\"law\"] ## sample file -- tag the logos in the window in first image\n",
    "im_name = names[1]\n",
    "# you can swap out the paths for your image!\n",
    "inpath1 = \"$(im_name)1.jpg\"\n",
    "inpath2 = \"$(im_name)2.jpg\"\n",
    "\n",
    "## Load images and convert to an Array\n",
    "im1 = convert(Array, load(inpath1))\n",
    "im2 = convert(Array, load(inpath2))\n",
    "nothing"
   ]
  },
  {
   "cell_type": "markdown",
   "metadata": {},
   "source": [
    "Let us first display Image 1. "
   ]
  },
  {
   "cell_type": "code",
   "execution_count": null,
   "metadata": {},
   "outputs": [],
   "source": [
    "display(im1)"
   ]
  },
  {
   "cell_type": "markdown",
   "metadata": {},
   "source": [
    "And now, Image 2."
   ]
  },
  {
   "cell_type": "code",
   "execution_count": null,
   "metadata": {},
   "outputs": [],
   "source": [
    "display(im2)"
   ]
  },
  {
   "cell_type": "code",
   "execution_count": null,
   "metadata": {},
   "outputs": [],
   "source": [
    "using MIT18065\n",
    "\n",
    "# includes the functions needed to do the stitching\n",
    "include(\"Photostitching.jl\")"
   ]
  },
  {
   "cell_type": "code",
   "execution_count": null,
   "metadata": {},
   "outputs": [],
   "source": [
    "## Tag the points in the logos of image one and the window around it\n",
    "## These correspond to the left most window in image 2 \n",
    "## Planar surface correspondences work best!\n",
    "## Get correspondences\n",
    "# there is only one example file with 8 points, any other number will prompt you to pick points\n",
    "n = 8 # correspondencs (>= 4)\n",
    "\n",
    "pointsPath = \"$(im_name)_points$(n).jld\"\n",
    "\n",
    "## To pick your own points, comment out the if statement and run just the following:\n",
    "## (XY1, XY2), plot = getcorrespondences(im1, im2, n)\n",
    "## save(pointsPath, \"XY1\", \"XY2\")\n",
    "## plot \n",
    "\n",
    "if isfile(pointsPath) # if there is a file with points\n",
    "    # Load saved points\n",
    "    vars = load(pointsPath)\n",
    "    println(vars)\n",
    "    XY1 = vars[\"XY1\"]\n",
    "    XY2 = vars[\"XY2\"]\n",
    "else\n",
    "    # Else open a GUI to let you choose correspondences\n",
    "    (XY1, XY2), plot = getcorrespondences(im1, im2, n)\n",
    "    save(pointsPath, \"XY1\", \"XY2\")\n",
    "end\n",
    "\n",
    "plot"
   ]
  },
  {
   "cell_type": "markdown",
   "metadata": {},
   "source": [
    "We now compute the Homography Matrix that transforms points in Image 2 to the points in Image 1. This $3 \\times 3$ matrix is computed next."
   ]
  },
  {
   "cell_type": "code",
   "execution_count": null,
   "metadata": {},
   "outputs": [],
   "source": [
    "H21 = projective_transform(XY2, XY1) # 2 --> 1"
   ]
  },
  {
   "cell_type": "markdown",
   "metadata": {},
   "source": [
    "We also compute the Homography Matrix that transforms points in Image 1 to the points in Image 2. This $3 \\times 3$ matrix is computed next."
   ]
  },
  {
   "cell_type": "code",
   "execution_count": null,
   "metadata": {},
   "outputs": [],
   "source": [
    "H12 = projective_transform(XY1, XY2) # 1 --> 2 "
   ]
  },
  {
   "cell_type": "markdown",
   "metadata": {},
   "source": [
    "Note that these matrices are not inverses of each other! We will now stitch together Image 1 and Image 2, from the perspective of Image 1 and display the resulting stitched image. This is accomplished using the following code: "
   ]
  },
  {
   "cell_type": "code",
   "execution_count": null,
   "metadata": {},
   "outputs": [],
   "source": [
    "## Stitch images from perspective 1\n",
    "\n",
    "I1 = [\n",
    "    ImageStitcher(im1, eye(3)),\n",
    "    ImageStitcher(im2, H21)\n",
    "]\n",
    "\n",
    "# order = \"natural\": closet (to chosen persepctive) displayed on top\n",
    "# order = \"reverse\": farthest displayed on top\n",
    "imS1 = stitchImages(I1, order = \"reverse\") "
   ]
  },
  {
   "cell_type": "markdown",
   "metadata": {},
   "source": [
    "Next we  stitch together Image 2 and Image 1, from the perspective of Image 2 and display the resulting image."
   ]
  },
  {
   "cell_type": "code",
   "execution_count": null,
   "metadata": {},
   "outputs": [],
   "source": [
    "## Stitch images from perspective 2\n",
    "\n",
    "I2 = [\n",
    "    ImageStitcher(im2, eye(3)),\n",
    "    ImageStitcher(im1, H12)\n",
    "]\n",
    "\n",
    "# order = \"natural\": closet (to chosen persepctive) displayed on top\n",
    "# order = \"reverse\": farthest displayed on top\n",
    "imS2 = stitchImages(I2, order = \"natural\")\n"
   ]
  },
  {
   "cell_type": "markdown",
   "metadata": {},
   "source": [
    "We are now done! You can save the images created by executing the cell below. "
   ]
  },
  {
   "cell_type": "code",
   "execution_count": null,
   "metadata": {},
   "outputs": [],
   "source": [
    "## Save png images of the stitched images\n",
    "save(\"$(im_name)_stitched1.png\", imS1)\n",
    "save(\"$(im_name)_stitched2.png\", imS2)"
   ]
  },
  {
   "cell_type": "code",
   "execution_count": null,
   "metadata": {},
   "outputs": [],
   "source": []
  }
 ],
 "metadata": {
  "anaconda-cloud": {},
  "kernelspec": {
   "display_name": "Julia 0.6.2",
   "language": "julia",
   "name": "julia-0.6"
  },
  "language_info": {
   "file_extension": ".jl",
   "mimetype": "application/julia",
   "name": "julia",
   "version": "0.6.2"
  }
 },
 "nbformat": 4,
 "nbformat_minor": 2
}
